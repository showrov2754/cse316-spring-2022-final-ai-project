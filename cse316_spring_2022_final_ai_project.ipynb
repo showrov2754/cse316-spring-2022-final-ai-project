{
  "nbformat": 4,
  "nbformat_minor": 0,
  "metadata": {
    "colab": {
      "name": "cse316 spring 2022 final ai project.ipynb",
      "provenance": [],
      "collapsed_sections": []
    },
    "kernelspec": {
      "name": "python3",
      "display_name": "Python 3"
    },
    "language_info": {
      "name": "python"
    }
  },
  "cells": [
    {
      "cell_type": "code",
      "metadata": {
        "id": "9c8G9fmeAWc8"
      },
      "source": [
        "from google.colab import drive\n",
        "drive.mount('/content/gdrive')"
      ],
      "execution_count": null,
      "outputs": []
    },
    {
      "cell_type": "code",
      "metadata": {
        "id": "OYhCAUu-AyZG"
      },
      "source": [
        "import pandas as pd"
      ],
      "execution_count": 2,
      "outputs": []
    },
    {
      "cell_type": "code",
      "metadata": {
        "id": "e188ToXgBBMz"
      },
      "source": [
        "wtmoc = pd.read_csv('gdrive/My Drive/Colab Notebooks/Ai project/ai project dataset.csv')"
      ],
      "execution_count": 3,
      "outputs": []
    },
    {
      "cell_type": "markdown",
      "metadata": {
        "id": "mHw26MVbBWFU"
      },
      "source": [
        "**Show Dataset**"
      ]
    },
    {
      "cell_type": "code",
      "metadata": {
        "id": "57xH08MfBYgE"
      },
      "source": [
        "wtmoc.head(5)"
      ],
      "execution_count": null,
      "outputs": []
    },
    {
      "cell_type": "code",
      "metadata": {
        "id": "0XWsg08wBbKk"
      },
      "source": [
        "wtmoc.isnull().sum()"
      ],
      "execution_count": null,
      "outputs": []
    },
    {
      "cell_type": "markdown",
      "metadata": {
        "id": "TEirZpYKBlZE"
      },
      "source": [
        "**show shape**"
      ]
    },
    {
      "cell_type": "code",
      "metadata": {
        "id": "_KkPZNM4BnPz"
      },
      "source": [
        "wtmoc.shape"
      ],
      "execution_count": null,
      "outputs": []
    },
    {
      "cell_type": "markdown",
      "metadata": {
        "id": "VIAtNw15Bt5L"
      },
      "source": [
        "**show all information with missing value**"
      ]
    },
    {
      "cell_type": "code",
      "metadata": {
        "id": "E5-_2TUpBvvj"
      },
      "source": [
        "wtmoc.info()"
      ],
      "execution_count": null,
      "outputs": []
    },
    {
      "cell_type": "code",
      "metadata": {
        "id": "c9NrZK5oBzLz"
      },
      "source": [
        "wtmoc.isnull().sum()"
      ],
      "execution_count": null,
      "outputs": []
    },
    {
      "cell_type": "markdown",
      "metadata": {
        "id": "SZ_vM10FB5SV"
      },
      "source": [
        "**Import library for data** **visualization** **bold text**"
      ]
    },
    {
      "cell_type": "code",
      "metadata": {
        "id": "O9Is6YTeB74c"
      },
      "source": [
        "import matplotlib.pyplot as plt\n",
        "%matplotlib inline\n",
        "import seaborn as sns\n",
        "sns.set()"
      ],
      "execution_count": 9,
      "outputs": []
    },
    {
      "cell_type": "markdown",
      "metadata": {
        "id": "2NJSSoVgCI29"
      },
      "source": [
        "**Create a function for showing the graph**"
      ]
    },
    {
      "cell_type": "code",
      "metadata": {
        "id": "ne4CDfiPCKbD"
      },
      "source": [
        "def bar_chart(feature):\n",
        "  yes = wtmoc[wtmoc['willing']==1][feature].value_counts()\n",
        "  no = wtmoc[wtmoc['willing']==0][feature].value_counts()\n",
        "  df = pd.DataFrame([yes,no])\n",
        "  df.index = ['Yes','No']\n",
        "  df.plot(kind = 'bar',stacked=True, figsize=(10,5))"
      ],
      "execution_count": 10,
      "outputs": []
    },
    {
      "cell_type": "code",
      "metadata": {
        "id": "qhLlavj6COWD"
      },
      "source": [
        "wtmoc.head()"
      ],
      "execution_count": null,
      "outputs": []
    },
    {
      "cell_type": "code",
      "metadata": {
        "id": "KZQ_xDWzCRH9"
      },
      "source": [
        "wtmoc_test_data = [wtmoc]"
      ],
      "execution_count": 12,
      "outputs": []
    },
    {
      "cell_type": "markdown",
      "metadata": {
        "id": "E1xCu9yMCXTz"
      },
      "source": [
        "**Training and Testing and Model Evaluation**"
      ]
    },
    {
      "cell_type": "code",
      "metadata": {
        "id": "kc5Ri5bHCZZt"
      },
      "source": [
        "wtmoc['Gender'].value_counts()"
      ],
      "execution_count": null,
      "outputs": []
    },
    {
      "cell_type": "code",
      "metadata": {
        "id": "w4A4B5nvCcjL"
      },
      "source": [
        "gender_mapping = {\"Male\": 0, \"Female\": 1}\n",
        "for dataset in wtmoc_test_data:\n",
        "    dataset['Gender'] = dataset['Gender'].map(gender_mapping )"
      ],
      "execution_count": 14,
      "outputs": []
    },
    {
      "cell_type": "code",
      "metadata": {
        "id": "7aDkip5ZChM5"
      },
      "source": [
        "wtmoc['Gender'].value_counts()"
      ],
      "execution_count": null,
      "outputs": []
    },
    {
      "cell_type": "code",
      "metadata": {
        "id": "qhcQzMbfCkY6"
      },
      "source": [
        "wtmoc['Age'].value_counts()"
      ],
      "execution_count": null,
      "outputs": []
    },
    {
      "cell_type": "code",
      "metadata": {
        "id": "KFfOq9FJCmwo"
      },
      "source": [
        "age_mapping = {\"20-30\": 0,\"20_30\":0,\"30-40\": 1,\"40-50\": 2,\"50-60\": 3}\n",
        "for dataset in wtmoc_test_data:\n",
        "    dataset['Age'] = dataset['Age'].map(age_mapping )"
      ],
      "execution_count": 17,
      "outputs": []
    },
    {
      "cell_type": "code",
      "metadata": {
        "id": "SBJ_mnArCpYA"
      },
      "source": [
        "wtmoc['profession'].value_counts()"
      ],
      "execution_count": null,
      "outputs": []
    },
    {
      "cell_type": "code",
      "metadata": {
        "id": "XcrXuPsqCrgx"
      },
      "source": [
        "pro_mapping = {\"Job\": 0, \"job\": 0,\"Student\": 1, \"student\": 1,\"Jobless\": 2}\n",
        "for dataset in wtmoc_test_data:\n",
        "    dataset['profession'] = dataset['profession'].map(pro_mapping)"
      ],
      "execution_count": 19,
      "outputs": []
    },
    {
      "cell_type": "code",
      "metadata": {
        "id": "QRDzsnFYCt7Y"
      },
      "source": [
        "wtmoc['address'].value_counts()"
      ],
      "execution_count": null,
      "outputs": []
    },
    {
      "cell_type": "code",
      "metadata": {
        "id": "5RIslAQoCwsx"
      },
      "source": [
        "ad_mapping = {\"City\": 0, \"city\": 0,\"urban area\": 1, \"Urban area\": 1,\"Major city\": 3,\"Town\": 4,\"Village\":1}\n",
        "for dataset in wtmoc_test_data:\n",
        "    dataset['address'] = dataset['address'].map(ad_mapping)"
      ],
      "execution_count": 21,
      "outputs": []
    },
    {
      "cell_type": "code",
      "metadata": {
        "id": "LceBC1QoCzAA"
      },
      "source": [
        "wtmoc['willing'].value_counts()"
      ],
      "execution_count": null,
      "outputs": []
    },
    {
      "cell_type": "code",
      "metadata": {
        "id": "ie_eZCZ9C1oY"
      },
      "source": [
        "will_mapping = {\"Yes\": 0, \"yes\": 0,\"No\": 1}\n",
        "for dataset in wtmoc_test_data:\n",
        "    dataset['willing'] = dataset['willing'].map(will_mapping)"
      ],
      "execution_count": 23,
      "outputs": []
    },
    {
      "cell_type": "code",
      "metadata": {
        "id": "d0LIjoSEC4jJ"
      },
      "source": [
        "bar_chart(\"Age\")"
      ],
      "execution_count": null,
      "outputs": []
    },
    {
      "cell_type": "code",
      "metadata": {
        "id": "h7HtskTkO6o0"
      },
      "source": [
        "bar_chart(\"address\")"
      ],
      "execution_count": null,
      "outputs": []
    },
    {
      "cell_type": "code",
      "metadata": {
        "id": "jCUyGxB8O-18"
      },
      "source": [
        "bar_chart(\"willing\")"
      ],
      "execution_count": null,
      "outputs": []
    },
    {
      "cell_type": "code",
      "metadata": {
        "id": "YG4-TFs2PMxJ"
      },
      "source": [
        "bar_chart(\"profession\")"
      ],
      "execution_count": null,
      "outputs": []
    },
    {
      "cell_type": "code",
      "metadata": {
        "id": "L7LYREw4PNdo"
      },
      "source": [
        "bar_chart(\"Gender\")"
      ],
      "execution_count": null,
      "outputs": []
    },
    {
      "cell_type": "code",
      "metadata": {
        "id": "QCs0QF41PPoQ"
      },
      "source": [
        "wtmoc.head()"
      ],
      "execution_count": null,
      "outputs": []
    },
    {
      "cell_type": "markdown",
      "metadata": {
        "id": "-S4ivc5qPT_W"
      },
      "source": [
        "**Dropping Unncecssary attribute**"
      ]
    },
    {
      "cell_type": "code",
      "metadata": {
        "id": "CB-3FJrGuX1Q"
      },
      "source": [
        ""
      ],
      "execution_count": 29,
      "outputs": []
    },
    {
      "cell_type": "code",
      "metadata": {
        "id": "_vtJH7GNPV18"
      },
      "source": [
        "features_drop = ['Name','choice']\n",
        "wtmoc = wtmoc.drop(features_drop, axis=1)"
      ],
      "execution_count": 30,
      "outputs": []
    },
    {
      "cell_type": "code",
      "metadata": {
        "id": "NgiXaX7FPYrM"
      },
      "source": [
        "wtmoc.head()"
      ],
      "execution_count": null,
      "outputs": []
    },
    {
      "cell_type": "code",
      "metadata": {
        "id": "bNmuUlvPPayb"
      },
      "source": [
        "# (X_TRAIN->train_data, Y_TRAIN->target), X_TEST, Y_TEST\n",
        "wtmoc_data = wtmoc.drop('willing', axis=1)     \n",
        "target = wtmoc['willing']\n",
        "\n",
        "wtmoc_data.shape, target.shape"
      ],
      "execution_count": null,
      "outputs": []
    },
    {
      "cell_type": "code",
      "metadata": {
        "id": "ds3srpAaPfuc"
      },
      "source": [
        "#Start Confusion Matrix Evaluation\n",
        "\n",
        "from sklearn.model_selection import train_test_split\n",
        "X_train, X_test, y_train, y_test = train_test_split(wtmoc_data, target, test_size=.20, random_state=42)\n",
        "print(\"X_train: \", X_train.shape)\n",
        "print(\"X_test: \", X_test.shape)\n",
        "print(\"y_train: \", y_train.shape)\n",
        "print(\"y_test: \", y_test.shape)\n",
        "print(y_test)\n",
        "\n",
        "y_test.value_counts()"
      ],
      "execution_count": null,
      "outputs": []
    },
    {
      "cell_type": "code",
      "metadata": {
        "id": "GO21Wa5iPgn9"
      },
      "source": [
        "wtmoc.isnull().sum()"
      ],
      "execution_count": null,
      "outputs": []
    },
    {
      "cell_type": "code",
      "metadata": {
        "id": "SZ6DO_ykPkBD"
      },
      "source": [
        "# Importing Classifier Modules\n",
        "from sklearn.tree import DecisionTreeClassifier\n",
        "\n",
        "dt = DecisionTreeClassifier()\n",
        "dt.fit(X_train, y_train)\n",
        "y_pred = dt.predict(X_test)"
      ],
      "execution_count": 35,
      "outputs": []
    },
    {
      "cell_type": "code",
      "metadata": {
        "id": "Yo8iXbJBPmlZ"
      },
      "source": [
        "from sklearn.metrics import confusion_matrix,classification_report\n",
        "print(confusion_matrix(y_test, y_pred))\n",
        "print(classification_report(y_test,y_pred))"
      ],
      "execution_count": null,
      "outputs": []
    },
    {
      "cell_type": "code",
      "metadata": {
        "id": "0UdvPnIDPopY"
      },
      "source": [
        "from sklearn.metrics import accuracy_score\n",
        "print(accuracy_score(y_test, y_pred))"
      ],
      "execution_count": null,
      "outputs": []
    },
    {
      "cell_type": "code",
      "metadata": {
        "id": "HQwrSJdyPqxy"
      },
      "source": [
        "from sklearn.ensemble import RandomForestClassifier\n",
        "\n",
        "dt = RandomForestClassifier()\n",
        "dt.fit(X_train, y_train)\n",
        "y_pred = dt.predict(X_test)"
      ],
      "execution_count": 38,
      "outputs": []
    },
    {
      "cell_type": "code",
      "metadata": {
        "id": "Hc15YGtvPtTJ"
      },
      "source": [
        "from sklearn.metrics import confusion_matrix,classification_report\n",
        "print(confusion_matrix(y_test, y_pred))\n",
        "print(classification_report(y_test,y_pred))"
      ],
      "execution_count": null,
      "outputs": []
    },
    {
      "cell_type": "code",
      "metadata": {
        "id": "IUrtAbCRPvw3"
      },
      "source": [
        "print(accuracy_score(y_test, y_pred))"
      ],
      "execution_count": null,
      "outputs": []
    }
  ]
}